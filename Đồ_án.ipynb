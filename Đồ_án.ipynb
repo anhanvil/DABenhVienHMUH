{
  "cells": [
    {
      "cell_type": "markdown",
      "metadata": {
        "id": "qklzOnVP3H90"
      },
      "source": [
        "Bài toán: Dự đoán độ tin cậy và tính hợp lệ của phân tích chi phí bệnh viện với mạng nơ-ron động và thuật toán di truyền"
      ]
    },
    {
      "cell_type": "markdown",
      "metadata": {
        "id": "wGJ5xCRM30A0"
      },
      "source": [
        "Khai báo thư viện "
      ]
    },
    {
      "cell_type": "code",
      "execution_count": 2,
      "metadata": {
        "colab": {
          "base_uri": "https://localhost:8080/"
        },
        "id": "oYIn51cnXk02",
        "outputId": "06e657af-60c3-4a83-aa7b-66baa42e06e1"
      },
      "outputs": [
        {
          "output_type": "stream",
          "name": "stdout",
          "text": [
            "Looking in indexes: https://pypi.org/simple, https://us-python.pkg.dev/colab-wheels/public/simple/\n",
            "Collecting pygad\n",
            "  Downloading pygad-2.16.3-py3-none-any.whl (53 kB)\n",
            "\u001b[K     |████████████████████████████████| 53 kB 2.1 MB/s \n",
            "\u001b[?25hRequirement already satisfied: matplotlib in /usr/local/lib/python3.7/dist-packages (from pygad) (3.2.2)\n",
            "Requirement already satisfied: numpy in /usr/local/lib/python3.7/dist-packages (from pygad) (1.21.6)\n",
            "Requirement already satisfied: python-dateutil>=2.1 in /usr/local/lib/python3.7/dist-packages (from matplotlib->pygad) (2.8.2)\n",
            "Requirement already satisfied: cycler>=0.10 in /usr/local/lib/python3.7/dist-packages (from matplotlib->pygad) (0.11.0)\n",
            "Requirement already satisfied: kiwisolver>=1.0.1 in /usr/local/lib/python3.7/dist-packages (from matplotlib->pygad) (1.4.3)\n",
            "Requirement already satisfied: pyparsing!=2.0.4,!=2.1.2,!=2.1.6,>=2.0.1 in /usr/local/lib/python3.7/dist-packages (from matplotlib->pygad) (3.0.9)\n",
            "Requirement already satisfied: typing-extensions in /usr/local/lib/python3.7/dist-packages (from kiwisolver>=1.0.1->matplotlib->pygad) (4.1.1)\n",
            "Requirement already satisfied: six>=1.5 in /usr/local/lib/python3.7/dist-packages (from python-dateutil>=2.1->matplotlib->pygad) (1.15.0)\n",
            "Installing collected packages: pygad\n",
            "Successfully installed pygad-2.16.3\n"
          ]
        }
      ],
      "source": [
        "!pip install pygad"
      ]
    },
    {
      "cell_type": "code",
      "execution_count": 3,
      "metadata": {
        "id": "iBe5cPLG30wB"
      },
      "outputs": [],
      "source": [
        "import pandas as pd\n",
        "import numpy as np\n",
        "import pygad\n",
        "import pygad.nn\n",
        "import pygad.gann"
      ]
    },
    {
      "cell_type": "markdown",
      "metadata": {
        "id": "3lfWTclotvAL"
      },
      "source": [
        "Đọc dữ liệu"
      ]
    },
    {
      "cell_type": "code",
      "execution_count": 4,
      "metadata": {
        "id": "TqHbB07XPphX"
      },
      "outputs": [],
      "source": [
        "# Preparing the NumPy array of the inputs.\n",
        "data_inputs = np.array(pd.read_excel(\"/content/drive/MyDrive/data_chuanhoa_input.xlsx\"))\n",
        "\n",
        "# Preparing the NumPy array of the outputs.\n",
        "data_outputs = np.array(pd.read_excel(\"/content/drive/MyDrive/data_chuanhoa_output.xlsx\"))\n",
        "data_outputs = data_outputs.reshape(840, )\n"
      ]
    },
    {
      "cell_type": "markdown",
      "metadata": {
        "id": "wbcWNwmQDegS"
      },
      "source": [
        "Xây dựng mô hình"
      ]
    },
    {
      "cell_type": "code",
      "execution_count": 5,
      "metadata": {
        "colab": {
          "base_uri": "https://localhost:8080/",
          "height": 1000
        },
        "id": "_xzvMFSs5XO2",
        "outputId": "ab7f3d5d-5ab3-4c53-a33d-830a58c0bb13"
      },
      "outputs": [
        {
          "output_type": "stream",
          "name": "stdout",
          "text": [
            "Generation = 1\n",
            "Fitness    = 77.5\n",
            "Change     = 77.5\n",
            "Generation = 2\n",
            "Fitness    = 77.5\n",
            "Change     = 0.0\n",
            "Generation = 3\n",
            "Fitness    = 77.5\n",
            "Change     = 0.0\n",
            "Generation = 4\n",
            "Fitness    = 77.5\n",
            "Change     = 0.0\n",
            "Generation = 5\n",
            "Fitness    = 77.5\n",
            "Change     = 0.0\n",
            "Generation = 6\n",
            "Fitness    = 77.61904761904762\n",
            "Change     = 0.1190476190476204\n",
            "Generation = 7\n",
            "Fitness    = 77.73809523809524\n",
            "Change     = 0.1190476190476204\n",
            "Generation = 8\n",
            "Fitness    = 77.73809523809524\n",
            "Change     = 0.0\n",
            "Generation = 9\n",
            "Fitness    = 77.73809523809524\n",
            "Change     = 0.0\n",
            "Generation = 10\n",
            "Fitness    = 77.73809523809524\n",
            "Change     = 0.0\n",
            "Generation = 11\n",
            "Fitness    = 77.97619047619048\n",
            "Change     = 0.2380952380952408\n",
            "Generation = 12\n",
            "Fitness    = 77.97619047619048\n",
            "Change     = 0.0\n",
            "Generation = 13\n",
            "Fitness    = 77.97619047619048\n",
            "Change     = 0.0\n",
            "Generation = 14\n",
            "Fitness    = 77.97619047619048\n",
            "Change     = 0.0\n",
            "Generation = 15\n",
            "Fitness    = 78.0952380952381\n",
            "Change     = 0.1190476190476204\n",
            "Generation = 16\n",
            "Fitness    = 78.21428571428571\n",
            "Change     = 0.11904761904760619\n",
            "Generation = 17\n",
            "Fitness    = 78.33333333333333\n",
            "Change     = 0.1190476190476204\n",
            "Generation = 18\n",
            "Fitness    = 78.33333333333333\n",
            "Change     = 0.0\n",
            "Generation = 19\n",
            "Fitness    = 78.45238095238095\n",
            "Change     = 0.1190476190476204\n",
            "Generation = 20\n",
            "Fitness    = 78.57142857142857\n",
            "Change     = 0.1190476190476204\n",
            "Generation = 21\n",
            "Fitness    = 78.69047619047619\n",
            "Change     = 0.1190476190476204\n",
            "Generation = 22\n",
            "Fitness    = 78.69047619047619\n",
            "Change     = 0.0\n",
            "Generation = 23\n",
            "Fitness    = 78.69047619047619\n",
            "Change     = 0.0\n",
            "Generation = 24\n",
            "Fitness    = 78.69047619047619\n",
            "Change     = 0.0\n",
            "Generation = 25\n",
            "Fitness    = 78.80952380952381\n",
            "Change     = 0.1190476190476204\n",
            "Generation = 26\n",
            "Fitness    = 78.80952380952381\n",
            "Change     = 0.0\n",
            "Generation = 27\n",
            "Fitness    = 78.80952380952381\n",
            "Change     = 0.0\n",
            "Generation = 28\n",
            "Fitness    = 78.80952380952381\n",
            "Change     = 0.0\n",
            "Generation = 29\n",
            "Fitness    = 78.80952380952381\n",
            "Change     = 0.0\n",
            "Generation = 30\n",
            "Fitness    = 78.80952380952381\n",
            "Change     = 0.0\n",
            "Generation = 31\n",
            "Fitness    = 78.80952380952381\n",
            "Change     = 0.0\n",
            "Generation = 32\n",
            "Fitness    = 78.80952380952381\n",
            "Change     = 0.0\n",
            "Generation = 33\n",
            "Fitness    = 78.80952380952381\n",
            "Change     = 0.0\n",
            "Generation = 34\n",
            "Fitness    = 78.80952380952381\n",
            "Change     = 0.0\n",
            "Generation = 35\n",
            "Fitness    = 78.80952380952381\n",
            "Change     = 0.0\n",
            "Generation = 36\n",
            "Fitness    = 78.80952380952381\n",
            "Change     = 0.0\n",
            "Generation = 37\n",
            "Fitness    = 78.80952380952381\n",
            "Change     = 0.0\n",
            "Generation = 38\n",
            "Fitness    = 78.80952380952381\n",
            "Change     = 0.0\n",
            "Generation = 39\n",
            "Fitness    = 78.80952380952381\n",
            "Change     = 0.0\n",
            "Generation = 40\n",
            "Fitness    = 78.80952380952381\n",
            "Change     = 0.0\n",
            "Generation = 41\n",
            "Fitness    = 78.80952380952381\n",
            "Change     = 0.0\n",
            "Generation = 42\n",
            "Fitness    = 78.80952380952381\n",
            "Change     = 0.0\n",
            "Generation = 43\n",
            "Fitness    = 78.80952380952381\n",
            "Change     = 0.0\n",
            "Generation = 44\n",
            "Fitness    = 78.80952380952381\n",
            "Change     = 0.0\n",
            "Generation = 45\n",
            "Fitness    = 78.80952380952381\n",
            "Change     = 0.0\n",
            "Generation = 46\n",
            "Fitness    = 78.80952380952381\n",
            "Change     = 0.0\n",
            "Generation = 47\n",
            "Fitness    = 79.04761904761905\n",
            "Change     = 0.2380952380952408\n",
            "Generation = 48\n",
            "Fitness    = 79.16666666666666\n",
            "Change     = 0.11904761904760619\n",
            "Generation = 49\n",
            "Fitness    = 79.4047619047619\n",
            "Change     = 0.2380952380952408\n",
            "Generation = 50\n",
            "Fitness    = 79.4047619047619\n",
            "Change     = 0.0\n",
            "Generation = 51\n",
            "Fitness    = 79.4047619047619\n",
            "Change     = 0.0\n",
            "Generation = 52\n",
            "Fitness    = 79.4047619047619\n",
            "Change     = 0.0\n",
            "Generation = 53\n",
            "Fitness    = 79.4047619047619\n",
            "Change     = 0.0\n",
            "Generation = 54\n",
            "Fitness    = 79.4047619047619\n",
            "Change     = 0.0\n",
            "Generation = 55\n",
            "Fitness    = 79.4047619047619\n",
            "Change     = 0.0\n",
            "Generation = 56\n",
            "Fitness    = 79.4047619047619\n",
            "Change     = 0.0\n",
            "Generation = 57\n",
            "Fitness    = 79.4047619047619\n",
            "Change     = 0.0\n",
            "Generation = 58\n",
            "Fitness    = 79.4047619047619\n",
            "Change     = 0.0\n",
            "Generation = 59\n",
            "Fitness    = 79.4047619047619\n",
            "Change     = 0.0\n",
            "Generation = 60\n",
            "Fitness    = 79.4047619047619\n",
            "Change     = 0.0\n"
          ]
        },
        {
          "output_type": "display_data",
          "data": {
            "text/plain": [
              "<Figure size 432x288 with 1 Axes>"
            ],
            "image/png": "[encoded data removed]"
          },
          "metadata": {
            "needs_background": "light"
          }
        },
        {
          "output_type": "stream",
          "name": "stdout",
          "text": [
            "Parameters of the best solution : [-1.57791724e+00 -1.12723635e-01  5.28229699e-02  6.35065501e-02\n",
            " -6.69963106e-01 -6.90425587e-03  8.96779202e-02 -7.27468378e-01\n",
            "  6.09234422e-02  4.14037271e-01 -1.10174445e+00  4.30408174e-02\n",
            "  2.69834287e-02  7.33806168e-02 -8.00114925e-02 -1.00270571e+00\n",
            " -5.47573525e-02  8.57131330e-02 -1.50032982e-02 -7.20588157e-01\n",
            " -6.21563852e-01  4.01656111e-02  6.73331423e-03 -1.38522994e+00\n",
            "  7.46004955e-02 -2.67563470e-01 -8.73620582e-01  7.72310374e-03\n",
            " -8.45274595e-02  7.25717539e-01  1.70554951e-02 -3.17823764e-01\n",
            "  7.95783927e-01 -7.04843496e-01  3.09914442e-02 -1.08372778e+00\n",
            " -3.62151962e-01 -1.12141411e+00  3.22754300e-02  1.06602332e+00\n",
            "  7.65373007e-02 -7.22568309e-01 -1.29996215e+00  2.26739392e-02\n",
            "  4.57630100e-02 -6.60809713e-01  7.39414166e-02  3.27513783e-02\n",
            " -1.03971116e+00  2.56498764e+00 -6.26204820e-01  7.24681605e-01\n",
            " -1.47641432e+00  3.66095213e-01 -4.19235277e-01 -4.16928024e-01\n",
            "  1.11491360e+00 -1.39641265e+00  5.90600323e-01  1.49027888e+00\n",
            "  1.52732409e-01 -1.43119689e-02 -1.04720138e+00 -2.97046420e-02\n",
            " -1.81893576e-01  4.62859973e-01  5.25129273e-02  1.20998651e+00\n",
            "  6.66503459e-02  2.74960459e-02 -1.68097855e-01 -1.67201847e+00\n",
            " -3.33144989e-03 -1.43645480e-02 -4.66486622e-01 -8.64525618e-01\n",
            " -5.55791955e-02 -5.02070967e-02 -1.38234906e-02  1.11863311e-03\n",
            "  8.18610477e-02 -7.90618603e-02 -4.11921171e-01  2.15256858e+00\n",
            " -6.08977683e-01 -1.82901361e-01  9.32174171e-02  9.52103840e-02\n",
            "  2.01289452e-01 -7.84409396e-01  9.34711740e-03 -6.34453327e-02\n",
            " -7.36910430e-02 -7.09504041e-02 -1.60287577e+00 -1.61452061e+00]\n",
            "Fitness value of the best solution = 79.4047619047619\n",
            "Index of the best solution : 0\n",
            "Best fitness value reached after 49 generations.\n",
            "Predictions of the trained network : [0, 0, 0, 0, 0, 0, 0, 1, 0, 0, 0, 0, 0, 0, 0, 0, 0, 0, 0, 0, 0, 0, 0, 0, 0, 0, 0, 0, 0, 1, 1, 0, 0, 0, 0, 0, 0, 0, 0, 0, 0, 1, 0, 1, 0, 0, 0, 0, 0, 0, 0, 0, 0, 0, 0, 0, 0, 0, 0, 0, 0, 0, 0, 0, 0, 0, 0, 0, 0, 0, 0, 0, 0, 0, 0, 0, 0, 0, 0, 0, 0, 0, 0, 0, 0, 0, 0, 0, 0, 0, 0, 0, 0, 0, 0, 0, 0, 0, 0, 0, 0, 0, 0, 0, 0, 0, 0, 0, 0, 0, 0, 0, 0, 0, 0, 0, 0, 0, 0, 0, 0, 0, 0, 0, 0, 0, 0, 0, 0, 0, 0, 0, 1, 0, 0, 0, 0, 0, 0, 0, 0, 0, 0, 0, 0, 0, 0, 0, 0, 0, 0, 0, 0, 0, 0, 0, 0, 0, 0, 0, 0, 0, 0, 0, 0, 0, 0, 0, 0, 0, 0, 0, 0, 0, 0, 0, 0, 0, 0, 0, 0, 0, 0, 0, 0, 0, 0, 0, 0, 0, 0, 0, 0, 0, 0, 0, 0, 0, 0, 0, 0, 0, 0, 0, 1, 0, 0, 0, 0, 0, 0, 0, 0, 0, 0, 0, 0, 0, 0, 0, 0, 0, 0, 0, 0, 0, 0, 0, 0, 0, 0, 0, 0, 0, 0, 0, 0, 0, 0, 0, 0, 0, 0, 0, 0, 0, 0, 0, 0, 0, 0, 0, 1, 0, 1, 0, 0, 0, 0, 0, 0, 0, 0, 0, 0, 0, 0, 0, 0, 0, 0, 0, 0, 0, 0, 0, 0, 0, 1, 0, 0, 0, 0, 0, 0, 0, 0, 0, 0, 0, 0, 0, 0, 0, 0, 0, 0, 0, 1, 0, 0, 0, 0, 0, 0, 1, 0, 0, 0, 0, 0, 0, 0, 0, 1, 0, 0, 0, 0, 0, 0, 0, 0, 0, 0, 0, 0, 0, 0, 0, 0, 0, 0, 0, 0, 0, 0, 0, 0, 0, 0, 0, 0, 0, 0, 0, 0, 0, 0, 0, 0, 0, 0, 0, 0, 0, 0, 0, 0, 0, 0, 0, 0, 0, 0, 0, 0, 0, 0, 0, 0, 0, 0, 0, 0, 0, 0, 0, 0, 0, 0, 0, 0, 0, 0, 0, 0, 0, 0, 0, 0, 0, 1, 0, 0, 0, 0, 0, 0, 0, 0, 0, 0, 0, 0, 0, 0, 0, 0, 1, 0, 0, 0, 0, 0, 0, 0, 0, 0, 0, 0, 0, 1, 1, 1, 0, 0, 0, 0, 0, 0, 0, 0, 0, 0, 0, 0, 0, 0, 0, 0, 1, 1, 0, 0, 0, 0, 0, 0, 0, 0, 0, 0, 0, 0, 0, 0, 0, 1, 0, 0, 0, 0, 0, 0, 1, 0, 0, 0, 0, 0, 0, 0, 0, 0, 0, 0, 0, 0, 0, 0, 0, 0, 0, 0, 0, 0, 0, 0, 0, 0, 0, 0, 0, 0, 0, 0, 0, 0, 0, 0, 0, 0, 0, 0, 0, 0, 0, 0, 0, 0, 0, 0, 0, 0, 0, 0, 0, 0, 0, 0, 0, 0, 0, 0, 0, 0, 0, 0, 0, 0, 0, 0, 0, 0, 0, 0, 0, 0, 0, 0, 0, 0, 0, 0, 0, 0, 0, 0, 0, 0, 0, 0, 0, 0, 0, 0, 0, 0, 0, 0, 0, 0, 0, 0, 0, 0, 0, 0, 0, 0, 0, 0, 0, 0, 0, 0, 0, 0, 0, 0, 0, 0, 0, 0, 0, 0, 0, 0, 0, 0, 0, 0, 0, 0, 0, 0, 0, 0, 0, 0, 0, 0, 0, 0, 0, 0, 0, 0, 0, 0, 0, 0, 0, 0, 0, 0, 0, 0, 0, 0, 0, 0, 0, 0, 1, 0, 0, 0, 0, 0, 0, 1, 0, 0, 0, 0, 0, 0, 0, 0, 0, 0, 1, 0, 0, 0, 0, 0, 0, 0, 0, 0, 0, 0, 0, 0, 0, 0, 0, 0, 0, 0, 0, 0, 0, 0, 0, 0, 0, 0, 0, 0, 0, 0, 0, 0, 0, 0, 0, 0, 0, 0, 0, 0, 0, 0, 0, 0, 0, 0, 0, 0, 0, 0, 0, 0, 0, 0, 0, 0, 0, 1, 0, 0, 0, 0, 0, 0, 0, 0, 0, 0, 0, 0, 0, 0, 0, 0, 0, 0, 0, 0, 0, 0, 0, 0, 0, 0, 0, 0, 0, 0, 0, 0, 0, 0, 0, 0, 0, 0, 0, 0, 0, 0, 0, 0, 0, 0, 0, 0, 0, 0, 0, 0, 0, 0, 0, 0, 0, 0, 0, 0, 0, 0, 0, 0, 0, 0, 0, 0, 0, 0, 0, 0, 0, 0, 0, 0, 0, 0, 0, 0, 0, 0, 0, 0, 0, 0, 1, 0, 0, 0, 0, 0, 0, 0, 0, 0, 0, 0, 0, 0, 0, 0, 0, 0, 0, 0, 0, 0, 0, 0, 0, 0, 0, 0, 0, 0, 0, 0, 0, 0, 0, 0, 0, 0, 0, 0, 0, 0, 0, 0, 0, 0, 0, 0, 0, 0, 0]\n",
            "Number of correct classifications : 667.\n",
            "Number of wrong classifications : 173.\n",
            "Classification accuracy : 79.4047619047619.\n"
          ]
        }
      ],
      "source": [
        "def fitness_func(solution, sol_idx):\n",
        "    global GANN_instance, data_inputs, data_outputs\n",
        "\n",
        "    predictions = pygad.nn.predict(last_layer=GANN_instance.population_networks[sol_idx],\n",
        "                                   data_inputs=data_inputs)\n",
        "    correct_predictions = np.where(predictions == data_outputs)[0].size\n",
        "    solution_fitness = (correct_predictions/data_outputs.size)*100\n",
        "\n",
        "    return solution_fitness\n",
        "\n",
        "def callback_generation(ga_instance):\n",
        "    global GANN_instance, last_fitness\n",
        "\n",
        "    population_matrices = pygad.gann.population_as_matrices(population_networks=GANN_instance.population_networks,\n",
        "                                                            population_vectors=ga_instance.population)\n",
        "\n",
        "    GANN_instance.update_population_trained_weights(population_trained_weights=population_matrices)\n",
        "\n",
        "    print(\"Generation = {generation}\".format(generation=ga_instance.generations_completed))\n",
        "    print(\"Fitness    = {fitness}\".format(fitness=ga_instance.best_solution()[1]))\n",
        "    print(\"Change     = {change}\".format(change=ga_instance.best_solution()[1] - last_fitness))\n",
        "\n",
        "    last_fitness = ga_instance.best_solution()[1].copy()\n",
        "\n",
        "# lưu giá trị của fitness thế hệ trước\n",
        "last_fitness = 0\n",
        "\n",
        "# Tạo mạng noron\n",
        "num_solutions = 500 # số giải pháp (nghiệm) của mạng noron \n",
        "GANN_instance = pygad.gann.GANN(num_solutions=num_solutions,\n",
        "                                num_neurons_input= 4,\n",
        "                                num_neurons_hidden_layers=[16],\n",
        "                                num_neurons_output= 2,\n",
        "                                hidden_activations=[\"relu\"],\n",
        "                                output_activation=\"softmax\")\n",
        "\n",
        "# trả về danh sách chứa các trọng số cho tất cả giải pháp dưới dạng vecto \n",
        "population_vectors = pygad.gann.population_as_vectors(population_networks=GANN_instance.population_networks)\n",
        "\n",
        "#Dân số ban đầu là các vecto trọng số của các giải pháp trong mạng noron\n",
        "initial_population = population_vectors.copy()\n",
        "\n",
        "num_parents_mating = 4 # Số lượng cá thể được chọn làm bố mẹ trong nhóm giao phối\n",
        "\n",
        "num_generations = 60 # Số thế hệ\n",
        "\n",
        "parent_selection_type = \"sss\" # phương pháp chọn lọc\n",
        "\n",
        "crossover_type = \"single_point\" # phương pháp lai ghép\n",
        "\n",
        "crossover_probability = 0.95 # xác suất lai ghép\n",
        "\n",
        "mutation_type = \"random\" # phương pháp đột biến\n",
        "\n",
        "mutation_probability = 0.05 # xác suất đột biến\n",
        "\n",
        "keep_parents = 1 # Number of parents to keep in the next population. -1 có nghĩa là giữ tất cả cha mẹ đang dùng , 0 có nghĩa là không giữ gì ,>0 là giữ nguyên số lượng bố mẹ \n",
        "\n",
        "ga_instance = pygad.GA(num_generations=num_generations,\n",
        "                       num_parents_mating=num_parents_mating,\n",
        "                       initial_population=initial_population,\n",
        "                       fitness_func=fitness_func,\n",
        "                       parent_selection_type=parent_selection_type,\n",
        "                       crossover_type=crossover_type,\n",
        "                       crossover_probability=crossover_probability,\n",
        "                       mutation_type=mutation_type,\n",
        "                       mutation_probability=mutation_probability,\n",
        "                       keep_parents=keep_parents,\n",
        "                       on_generation=callback_generation)\n",
        "\n",
        "ga_instance.run()\n",
        "\n",
        "# biểu đồ hàm fitness qua các thế hệ\n",
        "ga_instance.plot_fitness()\n",
        "\n",
        "# Xác định thông số của giải pháp tốt nhất\n",
        "solution, solution_fitness, solution_idx = ga_instance.best_solution()\n",
        "print(\"Parameters of the best solution : {solution}\".format(solution=solution))\n",
        "print(\"Fitness value of the best solution = {solution_fitness}\".format(solution_fitness=solution_fitness))\n",
        "print(\"Index of the best solution : {solution_idx}\".format(solution_idx=solution_idx))\n",
        "\n",
        "if ga_instance.best_solution_generation != -1:\n",
        "    print(\"Best fitness value reached after {best_solution_generation} generations.\".format(best_solution_generation=ga_instance.best_solution_generation))\n",
        "\n",
        "# Dự đoán kết quả đầu ra của dữ liệu bằng giải pháp tốt nhất.\n",
        "predictions = pygad.nn.predict(last_layer=GANN_instance.population_networks[solution_idx],\n",
        "                               data_inputs=data_inputs)\n",
        "print(\"Predictions of the trained network : {predictions}\".format(predictions=predictions))\n",
        "\n",
        "# Độ chính xác của mô hình\n",
        "num_wrong = np.where(predictions != data_outputs)[0]\n",
        "num_correct = data_outputs.size - num_wrong.size\n",
        "accuracy = 100 * (num_correct/data_outputs.size)\n",
        "print(\"Number of correct classifications : {num_correct}.\".format(num_correct=num_correct))\n",
        "print(\"Number of wrong classifications : {num_wrong}.\".format(num_wrong=num_wrong.size))\n",
        "print(\"Classification accuracy : {accuracy}.\".format(accuracy=accuracy))"
      ]
    },
    {
      "cell_type": "markdown",
      "source": [
        "Unnormalized confusion matrix(ma trận confusion chưa chuẩn hóa)"
      ],
      "metadata": {
        "id": "ERl5zaekhBid"
      }
    },
    {
      "cell_type": "code",
      "execution_count": 6,
      "metadata": {
        "colab": {
          "base_uri": "https://localhost:8080/"
        },
        "id": "7chU5hZizV4K",
        "outputId": "6153b650-63a4-40ab-d884-76bc95d49ff3"
      },
      "outputs": [
        {
          "output_type": "stream",
          "name": "stdout",
          "text": [
            "Confusion matrix:\n",
            "[[644   4]\n",
            " [169  23]]\n"
          ]
        }
      ],
      "source": [
        "from sklearn.metrics import confusion_matrix\n",
        "cnf_matrix = confusion_matrix(data_outputs, predictions)\n",
        "print('Confusion matrix:')\n",
        "print(cnf_matrix)"
      ]
    },
    {
      "cell_type": "markdown",
      "source": [
        "Normalized confusion matrix(ma trận confusion chuẩn hóa)"
      ],
      "metadata": {
        "id": "sP8IngxYh_xA"
      }
    },
    {
      "cell_type": "code",
      "execution_count": 7,
      "metadata": {
        "colab": {
          "base_uri": "https://localhost:8080/"
        },
        "id": "EzLvHauU1AuK",
        "outputId": "42168dce-3e20-4825-d94f-6a8319eee923"
      },
      "outputs": [
        {
          "output_type": "stream",
          "name": "stdout",
          "text": [
            "\n",
            "Confusion matrix (with normalizatrion:)\n",
            "[[0.99382716 0.00617284]\n",
            " [0.88020833 0.11979167]]\n"
          ]
        }
      ],
      "source": [
        "normalized_confusion_matrix = cnf_matrix/cnf_matrix.sum(axis = 1, keepdims = True)\n",
        "print('\\nConfusion matrix (with normalizatrion:)')\n",
        "print(normalized_confusion_matrix)"
      ]
    },
    {
      "cell_type": "code",
      "execution_count": 8,
      "metadata": {
        "colab": {
          "base_uri": "https://localhost:8080/",
          "height": 605
        },
        "id": "A7P23t4Yz36m",
        "outputId": "b6224f67-3a84-467a-d7fc-ed70c436cec9"
      },
      "outputs": [
        {
          "output_type": "display_data",
          "data": {
            "text/plain": [
              "<Figure size 432x288 with 2 Axes>"
            ],
            "image/png": "[encoded data removed]"
          },
          "metadata": {
            "needs_background": "light"
          }
        },
        {
          "output_type": "display_data",
          "data": {
            "text/plain": [
              "<Figure size 432x288 with 2 Axes>"
            ],
            "image/png": "[encoded data removed]"
          },
          "metadata": {
            "needs_background": "light"
          }
        }
      ],
      "source": [
        "import matplotlib.pyplot as plt\n",
        "import itertools\n",
        "def plot_confusion_matrix(cm, classes,\n",
        "                          normalize=False,\n",
        "                          title='Confusion matrix',\n",
        "                          cmap=plt.cm.Blues):\n",
        "    if normalize:\n",
        "        cm = cm.astype('float') / cm.sum(axis=1, keepdims = True)\n",
        "\n",
        "    plt.imshow(cm, interpolation='nearest', cmap=cmap)\n",
        "    plt.title(title)\n",
        "    plt.colorbar()\n",
        "    tick_marks = np.arange(len(classes))\n",
        "    plt.xticks(tick_marks, classes, rotation=45)\n",
        "    plt.yticks(tick_marks, classes)\n",
        "\n",
        "    fmt = '.2f' if normalize else 'd'\n",
        "    thresh = cm.max() / 2.\n",
        "    for i, j in itertools.product(range(cm.shape[0]), range(cm.shape[1])):\n",
        "        plt.text(j, i, format(cm[i, j], fmt),\n",
        "                 horizontalalignment=\"center\",\n",
        "                 color=\"white\" if cm[i, j] > thresh else \"black\")\n",
        "\n",
        "    plt.tight_layout()\n",
        "    plt.ylabel('True label')\n",
        "    plt.xlabel('Predicted label')\n",
        "\n",
        "# Plot non-normalized confusion matrix\n",
        "class_names = [0, 1]\n",
        "plt.figure()\n",
        "plot_confusion_matrix(cnf_matrix, classes=class_names,\n",
        "                      title='Confusion matrix, without normalization')\n",
        "\n",
        "# Plot normalized confusion matrix\n",
        "plt.figure()\n",
        "plot_confusion_matrix(cnf_matrix, classes=class_names, normalize=True,\n",
        "                      title='Normalized confusion matrix')\n",
        "\n",
        "plt.show()"
      ]
    },
    {
      "cell_type": "markdown",
      "metadata": {
        "id": "kMMIzv29stMb"
      },
      "source": [
        " Precision-recall"
      ]
    },
    {
      "cell_type": "code",
      "execution_count": 9,
      "metadata": {
        "colab": {
          "base_uri": "https://localhost:8080/"
        },
        "id": "_ZiKR7fCNE6b",
        "outputId": "62a8824f-f4e1-4e47-aa91-71fd96ff4285"
      },
      "outputs": [
        {
          "output_type": "stream",
          "name": "stdout",
          "text": [
            "precition = 0.993827, recall = 0.792128\n"
          ]
        }
      ],
      "source": [
        "r = cnf_matrix[0,0]/np.sum(cnf_matrix[:,0])\n",
        "p = cnf_matrix[0,0]/np.sum(cnf_matrix[0])\n",
        "print(\"precition = {0:.6f}, recall = {1:.6f}\".format(p, r))"
      ]
    },
    {
      "cell_type": "markdown",
      "source": [
        "F1-score"
      ],
      "metadata": {
        "id": "1higJnDuidIX"
      }
    },
    {
      "cell_type": "code",
      "execution_count": 10,
      "metadata": {
        "colab": {
          "base_uri": "https://localhost:8080/"
        },
        "id": "R1UgZ2ECUw9R",
        "outputId": "9364a141-ae02-4d1c-d6be-971a585cf09e"
      },
      "outputs": [
        {
          "output_type": "execute_result",
          "data": {
            "text/plain": [
              "0.8815879534565367"
            ]
          },
          "metadata": {},
          "execution_count": 10
        }
      ],
      "source": [
        "F1_Score = float(2*p*r)/(p + r)\n",
        "F1_Score"
      ]
    }
  ],
  "metadata": {
    "colab": {
      "collapsed_sections": [],
      "name": "Đồ án.ipynb",
      "provenance": []
    },
    "kernelspec": {
      "display_name": "Python 3",
      "name": "python3"
    },
    "language_info": {
      "name": "python"
    },
    "accelerator": "GPU",
    "gpuClass": "standard"
  },
  "nbformat": 4,
  "nbformat_minor": 0
}